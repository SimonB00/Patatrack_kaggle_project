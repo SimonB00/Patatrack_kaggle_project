{
 "cells": [
  {
   "cell_type": "code",
   "execution_count": 3,
   "metadata": {},
   "outputs": [],
   "source": [
    "import matplotlib.pyplot as plt\n",
    "import pandas as pd\n",
    "import numpy as np\n",
    "from pathlib import Path"
   ]
  },
  {
   "cell_type": "code",
   "execution_count": 4,
   "metadata": {},
   "outputs": [
    {
     "data": {
      "text/html": [
       "<div>\n",
       "<style scoped>\n",
       "    .dataframe tbody tr th:only-of-type {\n",
       "        vertical-align: middle;\n",
       "    }\n",
       "\n",
       "    .dataframe tbody tr th {\n",
       "        vertical-align: top;\n",
       "    }\n",
       "\n",
       "    .dataframe thead th {\n",
       "        text-align: right;\n",
       "    }\n",
       "</style>\n",
       "<table border=\"1\" class=\"dataframe\">\n",
       "  <thead>\n",
       "    <tr style=\"text-align: right;\">\n",
       "      <th></th>\n",
       "      <th>pairIndex</th>\n",
       "      <th>pair</th>\n",
       "      <th>volume1</th>\n",
       "      <th>volume2</th>\n",
       "      <th>layer1</th>\n",
       "      <th>layer2</th>\n",
       "    </tr>\n",
       "  </thead>\n",
       "  <tbody>\n",
       "    <tr>\n",
       "      <th>0</th>\n",
       "      <td>308</td>\n",
       "      <td>(7-8)</td>\n",
       "      <td>8</td>\n",
       "      <td>8</td>\n",
       "      <td>2</td>\n",
       "      <td>4</td>\n",
       "    </tr>\n",
       "    <tr>\n",
       "      <th>1</th>\n",
       "      <td>350</td>\n",
       "      <td>(8-11)</td>\n",
       "      <td>8</td>\n",
       "      <td>9</td>\n",
       "      <td>4</td>\n",
       "      <td>2</td>\n",
       "    </tr>\n",
       "    <tr>\n",
       "      <th>2</th>\n",
       "      <td>462</td>\n",
       "      <td>(11-12)</td>\n",
       "      <td>9</td>\n",
       "      <td>9</td>\n",
       "      <td>2</td>\n",
       "      <td>4</td>\n",
       "    </tr>\n",
       "    <tr>\n",
       "      <th>3</th>\n",
       "      <td>498</td>\n",
       "      <td>(12-13)</td>\n",
       "      <td>9</td>\n",
       "      <td>9</td>\n",
       "      <td>4</td>\n",
       "      <td>6</td>\n",
       "    </tr>\n",
       "    <tr>\n",
       "      <th>4</th>\n",
       "      <td>543</td>\n",
       "      <td>(13-24)</td>\n",
       "      <td>9</td>\n",
       "      <td>13</td>\n",
       "      <td>6</td>\n",
       "      <td>2</td>\n",
       "    </tr>\n",
       "    <tr>\n",
       "      <th>...</th>\n",
       "      <td>...</td>\n",
       "      <td>...</td>\n",
       "      <td>...</td>\n",
       "      <td>...</td>\n",
       "      <td>...</td>\n",
       "      <td>...</td>\n",
       "    </tr>\n",
       "    <tr>\n",
       "      <th>57422</th>\n",
       "      <td>47</td>\n",
       "      <td>(1-2)</td>\n",
       "      <td>7</td>\n",
       "      <td>7</td>\n",
       "      <td>4</td>\n",
       "      <td>6</td>\n",
       "    </tr>\n",
       "    <tr>\n",
       "      <th>57423</th>\n",
       "      <td>93</td>\n",
       "      <td>(2-3)</td>\n",
       "      <td>7</td>\n",
       "      <td>7</td>\n",
       "      <td>6</td>\n",
       "      <td>8</td>\n",
       "    </tr>\n",
       "    <tr>\n",
       "      <th>57424</th>\n",
       "      <td>138</td>\n",
       "      <td>(3-4)</td>\n",
       "      <td>7</td>\n",
       "      <td>7</td>\n",
       "      <td>8</td>\n",
       "      <td>10</td>\n",
       "    </tr>\n",
       "    <tr>\n",
       "      <th>57425</th>\n",
       "      <td>182</td>\n",
       "      <td>(4-5)</td>\n",
       "      <td>7</td>\n",
       "      <td>7</td>\n",
       "      <td>10</td>\n",
       "      <td>12</td>\n",
       "    </tr>\n",
       "    <tr>\n",
       "      <th>57426</th>\n",
       "      <td>225</td>\n",
       "      <td>(5-6)</td>\n",
       "      <td>7</td>\n",
       "      <td>7</td>\n",
       "      <td>12</td>\n",
       "      <td>14</td>\n",
       "    </tr>\n",
       "  </tbody>\n",
       "</table>\n",
       "<p>57427 rows × 6 columns</p>\n",
       "</div>"
      ],
      "text/plain": [
       "       pairIndex     pair  volume1  volume2  layer1  layer2\n",
       "0            308    (7-8)        8        8       2       4\n",
       "1            350   (8-11)        8        9       4       2\n",
       "2            462  (11-12)        9        9       2       4\n",
       "3            498  (12-13)        9        9       4       6\n",
       "4            543  (13-24)        9       13       6       2\n",
       "...          ...      ...      ...      ...     ...     ...\n",
       "57422         47    (1-2)        7        7       4       6\n",
       "57423         93    (2-3)        7        7       6       8\n",
       "57424        138    (3-4)        7        7       8      10\n",
       "57425        182    (4-5)        7        7      10      12\n",
       "57426        225    (5-6)        7        7      12      14\n",
       "\n",
       "[57427 rows x 6 columns]"
      ]
     },
     "execution_count": 4,
     "metadata": {},
     "output_type": "execute_result"
    }
   ],
   "source": [
    "df = pd.read_csv('hist_ns0.csv')\n",
    "df.columns = ['pairIndex', 'pair', 'volume1', 'volume2', 'layer1', 'layer2']\n",
    "df"
   ]
  },
  {
   "cell_type": "code",
   "execution_count": 5,
   "metadata": {},
   "outputs": [
    {
     "data": {
      "text/plain": [
       "(7-8)      4826\n",
       "(8-9)      4116\n",
       "(24-25)    3873\n",
       "(9-10)     3460\n",
       "(25-26)    3284\n",
       "           ... \n",
       "(29-42)       1\n",
       "(21-30)       1\n",
       "(25-37)       1\n",
       "(9-12)        1\n",
       "(22-28)       1\n",
       "Name: pair, Length: 299, dtype: int64"
      ]
     },
     "execution_count": 5,
     "metadata": {},
     "output_type": "execute_result"
    }
   ],
   "source": [
    "countValues = df['pair'].value_counts()\n",
    "countValues"
   ]
  },
  {
   "cell_type": "code",
   "execution_count": 6,
   "metadata": {
    "scrolled": true
   },
   "outputs": [
    {
     "data": {
      "text/plain": [
       "array([4826, 4116, 3873, 3460, 3284, 2937, 2541, 1768, 1370, 1229, 1224,\n",
       "       1222, 1199, 1163, 1138, 1120, 1056,  993,  922,  856,  814,  805,\n",
       "        749,  734,  716,  697,  674,  654,  652,  624,  622,  619,  612,\n",
       "        366,  291,  283,  281,  274,  265,  248,  220,  191,  172,  160,\n",
       "        160,  157,  152,  150,  144,  129,  123,  120,  115,  112,  112,\n",
       "        111,  110,  109,  108,  104,  104,  102,  102,  102,  101,   97,\n",
       "         96,   95,   95,   94,   90,   83,   79,   78,   76,   73,   71,\n",
       "         71,   70,   65,   65,   61,   59,   49,   46,   45,   41,   40,\n",
       "         38,   36,   35,   34,   34,   31,   31,   27,   24,   23,   22,\n",
       "         22,   21,   20,   20,   19,   19,   19,   18,   17,   17,   17,\n",
       "         17,   16,   16,   16,   15,   15,   14,   14,   14,   12,   12,\n",
       "         11,   11,   11,   11,   10,   10,   10,   10,    9,    9,    9,\n",
       "          9,    8,    8,    7,    7,    7,    7,    7,    7,    7,    6,\n",
       "          6,    6,    6,    6,    6,    6,    6,    6,    6,    6,    6,\n",
       "          6,    5,    5,    5,    5,    5,    5,    5,    5,    4,    4,\n",
       "          4,    4,    4,    4,    4,    4,    4,    3,    3,    3,    3,\n",
       "          3,    3,    3,    3,    3,    3,    3,    3,    3,    3,    3,\n",
       "          3,    3,    3,    3,    3,    3,    3,    3,    2,    2,    2,\n",
       "          2,    2,    2,    2,    2,    2,    2,    2,    2,    2,    2,\n",
       "          2,    2,    2,    2,    2,    2,    2,    2,    2,    2,    1,\n",
       "          1,    1,    1,    1,    1,    1,    1,    1,    1,    1,    1,\n",
       "          1,    1,    1,    1,    1,    1,    1,    1,    1,    1,    1,\n",
       "          1,    1,    1,    1,    1,    1,    1,    1,    1,    1,    1,\n",
       "          1,    1,    1,    1,    1,    1,    1,    1,    1,    1,    1,\n",
       "          1,    1,    1,    1,    1,    1,    1,    1,    1,    1,    1,\n",
       "          1,    1,    1,    1,    1,    1,    1,    1,    1,    1,    1,\n",
       "          1,    1,    1,    1,    1,    1,    1,    1,    1,    1,    1,\n",
       "          1,    1])"
      ]
     },
     "execution_count": 6,
     "metadata": {},
     "output_type": "execute_result"
    }
   ],
   "source": [
    "countValues.values"
   ]
  },
  {
   "cell_type": "code",
   "execution_count": 7,
   "metadata": {},
   "outputs": [
    {
     "data": {
      "text/plain": [
       "Index(['(7-8)', '(8-9)', '(24-25)', '(9-10)', '(25-26)', '(10-24)', '(26-27)',\n",
       "       '(27-40)', '(40-41)', '(13-14)',\n",
       "       ...\n",
       "       '(42-47)', '(28-47)', '(5-19)', '(0-18)', '(28-31)', '(29-42)',\n",
       "       '(21-30)', '(25-37)', '(9-12)', '(22-28)'],\n",
       "      dtype='object', length=299)"
      ]
     },
     "execution_count": 7,
     "metadata": {},
     "output_type": "execute_result"
    }
   ],
   "source": [
    "countValues.index"
   ]
  },
  {
   "cell_type": "code",
   "execution_count": 8,
   "metadata": {
    "scrolled": true
   },
   "outputs": [
    {
     "data": {
      "text/plain": [
       "['a', 'b', 'c']"
      ]
     },
     "execution_count": 8,
     "metadata": {},
     "output_type": "execute_result"
    }
   ],
   "source": [
    "x = ['a','b','c']\n",
    "x[:10]"
   ]
  },
  {
   "cell_type": "code",
   "execution_count": 9,
   "metadata": {},
   "outputs": [
    {
     "data": {
      "image/png": "[encoded data removed]",
      "text/plain": [
       "<Figure size 1440x720 with 1 Axes>"
      ]
     },
     "metadata": {
      "needs_background": "light"
     },
     "output_type": "display_data"
    }
   ],
   "source": [
    "fig = plt.figure(figsize = (20, 10))\n",
    "ax = fig.add_axes([0,0,1,1])\n",
    "plt.yscale(\"log\")\n",
    "pairs = countValues.index[100:150]\n",
    "count = countValues.values[100:150]\n",
    "ax.bar(pairs,count)\n",
    "plt.xlabel(\"pairs\")\n",
    "plt.xticks(rotation = 45) \n",
    "plt.ylabel(\"count\")\n",
    "plt.title(\"Number of Pairs\")\n",
    "plt.show()"
   ]
  },
  {
   "cell_type": "code",
   "execution_count": 10,
   "metadata": {},
   "outputs": [
    {
     "data": {
      "image/png": "[encoded data removed]",
      "text/plain": [
       "<Figure size 1440x720 with 1 Axes>"
      ]
     },
     "metadata": {
      "needs_background": "light"
     },
     "output_type": "display_data"
    }
   ],
   "source": [
    "fig = plt.figure(figsize = (20, 10))\n",
    "ax = fig.add_axes([0,0,1,1])\n",
    "plt.yscale(\"log\")\n",
    "pairs = countValues.index[100:150]\n",
    "count = countValues.values[100:150]\n",
    "ax.bar(pairs,count)\n",
    "plt.xlabel(\"pairs\")\n",
    "plt.xticks(rotation = 45) \n",
    "plt.ylabel(\"count\")\n",
    "plt.title(\"Number of Pairs\")\n",
    "plt.show()"
   ]
  },
  {
   "cell_type": "code",
   "execution_count": 11,
   "metadata": {},
   "outputs": [
    {
     "data": {
      "text/plain": [
       "Index(['(1-3)', '(27-28)', '(8-24)', '(25-27)', '(27-41)', '(26-47)', '(4-6)',\n",
       "       '(11-13)', '(26-40)', '(22-24)', '(23-25)', '(5-7)', '(8-22)',\n",
       "       '(13-15)', '(9-18)', '(9-23)', '(15-17)', '(8-19)', '(29-40)', '(7-19)',\n",
       "       '(6-8)', '(27-29)', '(26-34)', '(0-2)', '(8-20)', '(7-24)', '(16-30)',\n",
       "       '(27-37)', '(6-24)', '(5-24)', '(26-46)', '(12-14)', '(21-24)',\n",
       "       '(14-16)', '(31-33)', '(7-21)', '(23-28)', '(29-46)', '(31-40)',\n",
       "       '(13-24)', '(24-35)', '(23-27)', '(29-31)', '(30-32)', '(19-21)',\n",
       "       '(18-20)', '(14-30)', '(26-42)', '(6-21)', '(21-23)'],\n",
       "      dtype='object')"
      ]
     },
     "execution_count": 11,
     "metadata": {},
     "output_type": "execute_result"
    }
   ],
   "source": [
    "pairs"
   ]
  },
  {
   "cell_type": "code",
   "execution_count": 12,
   "metadata": {},
   "outputs": [],
   "source": [
    "global_index_pair = pairs[0]"
   ]
  },
  {
   "cell_type": "code",
   "execution_count": 13,
   "metadata": {},
   "outputs": [
    {
     "data": {
      "text/plain": [
       "0          (7-8)\n",
       "1         (8-11)\n",
       "2        (11-12)\n",
       "3        (12-13)\n",
       "4        (13-24)\n",
       "          ...   \n",
       "57422      (1-2)\n",
       "57423      (2-3)\n",
       "57424      (3-4)\n",
       "57425      (4-5)\n",
       "57426      (5-6)\n",
       "Name: pair, Length: 57427, dtype: object"
      ]
     },
     "execution_count": 13,
     "metadata": {},
     "output_type": "execute_result"
    }
   ],
   "source": [
    "df.pair"
   ]
  },
  {
   "cell_type": "code",
   "execution_count": 14,
   "metadata": {},
   "outputs": [
    {
     "data": {
      "text/plain": [
       "0         True\n",
       "1        False\n",
       "2        False\n",
       "3        False\n",
       "4        False\n",
       "         ...  \n",
       "57422    False\n",
       "57423    False\n",
       "57424    False\n",
       "57425    False\n",
       "57426    False\n",
       "Name: pair, Length: 57427, dtype: bool"
      ]
     },
     "execution_count": 14,
     "metadata": {},
     "output_type": "execute_result"
    }
   ],
   "source": [
    "df.pair=='(7-8)'"
   ]
  },
  {
   "cell_type": "code",
   "execution_count": 25,
   "metadata": {},
   "outputs": [],
   "source": [
    "mask = df.pair==global_index_pair\n",
    "v1 = list(df.volume1[mask])[0]"
   ]
  },
  {
   "cell_type": "code",
   "execution_count": 26,
   "metadata": {},
   "outputs": [],
   "source": [
    "v2 = list(df.volume2[mask])[0]"
   ]
  },
  {
   "cell_type": "code",
   "execution_count": 27,
   "metadata": {},
   "outputs": [
    {
     "data": {
      "text/html": [
       "<div>\n",
       "<style scoped>\n",
       "    .dataframe tbody tr th:only-of-type {\n",
       "        vertical-align: middle;\n",
       "    }\n",
       "\n",
       "    .dataframe tbody tr th {\n",
       "        vertical-align: top;\n",
       "    }\n",
       "\n",
       "    .dataframe thead th {\n",
       "        text-align: right;\n",
       "    }\n",
       "</style>\n",
       "<table border=\"1\" class=\"dataframe\">\n",
       "  <thead>\n",
       "    <tr style=\"text-align: right;\">\n",
       "      <th></th>\n",
       "      <th>pairIndex</th>\n",
       "      <th>pair</th>\n",
       "      <th>volume1</th>\n",
       "      <th>volume2</th>\n",
       "      <th>layer1</th>\n",
       "      <th>layer2</th>\n",
       "    </tr>\n",
       "  </thead>\n",
       "  <tbody>\n",
       "    <tr>\n",
       "      <th>0</th>\n",
       "      <td>308</td>\n",
       "      <td>(7-8)</td>\n",
       "      <td>8</td>\n",
       "      <td>8</td>\n",
       "      <td>2</td>\n",
       "      <td>4</td>\n",
       "    </tr>\n",
       "    <tr>\n",
       "      <th>1</th>\n",
       "      <td>350</td>\n",
       "      <td>(8-11)</td>\n",
       "      <td>8</td>\n",
       "      <td>9</td>\n",
       "      <td>4</td>\n",
       "      <td>2</td>\n",
       "    </tr>\n",
       "    <tr>\n",
       "      <th>2</th>\n",
       "      <td>462</td>\n",
       "      <td>(11-12)</td>\n",
       "      <td>9</td>\n",
       "      <td>9</td>\n",
       "      <td>2</td>\n",
       "      <td>4</td>\n",
       "    </tr>\n",
       "    <tr>\n",
       "      <th>3</th>\n",
       "      <td>498</td>\n",
       "      <td>(12-13)</td>\n",
       "      <td>9</td>\n",
       "      <td>9</td>\n",
       "      <td>4</td>\n",
       "      <td>6</td>\n",
       "    </tr>\n",
       "    <tr>\n",
       "      <th>4</th>\n",
       "      <td>543</td>\n",
       "      <td>(13-24)</td>\n",
       "      <td>9</td>\n",
       "      <td>13</td>\n",
       "      <td>6</td>\n",
       "      <td>2</td>\n",
       "    </tr>\n",
       "    <tr>\n",
       "      <th>...</th>\n",
       "      <td>...</td>\n",
       "      <td>...</td>\n",
       "      <td>...</td>\n",
       "      <td>...</td>\n",
       "      <td>...</td>\n",
       "      <td>...</td>\n",
       "    </tr>\n",
       "    <tr>\n",
       "      <th>57422</th>\n",
       "      <td>47</td>\n",
       "      <td>(1-2)</td>\n",
       "      <td>7</td>\n",
       "      <td>7</td>\n",
       "      <td>4</td>\n",
       "      <td>6</td>\n",
       "    </tr>\n",
       "    <tr>\n",
       "      <th>57423</th>\n",
       "      <td>93</td>\n",
       "      <td>(2-3)</td>\n",
       "      <td>7</td>\n",
       "      <td>7</td>\n",
       "      <td>6</td>\n",
       "      <td>8</td>\n",
       "    </tr>\n",
       "    <tr>\n",
       "      <th>57424</th>\n",
       "      <td>138</td>\n",
       "      <td>(3-4)</td>\n",
       "      <td>7</td>\n",
       "      <td>7</td>\n",
       "      <td>8</td>\n",
       "      <td>10</td>\n",
       "    </tr>\n",
       "    <tr>\n",
       "      <th>57425</th>\n",
       "      <td>182</td>\n",
       "      <td>(4-5)</td>\n",
       "      <td>7</td>\n",
       "      <td>7</td>\n",
       "      <td>10</td>\n",
       "      <td>12</td>\n",
       "    </tr>\n",
       "    <tr>\n",
       "      <th>57426</th>\n",
       "      <td>225</td>\n",
       "      <td>(5-6)</td>\n",
       "      <td>7</td>\n",
       "      <td>7</td>\n",
       "      <td>12</td>\n",
       "      <td>14</td>\n",
       "    </tr>\n",
       "  </tbody>\n",
       "</table>\n",
       "<p>57427 rows × 6 columns</p>\n",
       "</div>"
      ],
      "text/plain": [
       "       pairIndex     pair  volume1  volume2  layer1  layer2\n",
       "0            308    (7-8)        8        8       2       4\n",
       "1            350   (8-11)        8        9       4       2\n",
       "2            462  (11-12)        9        9       2       4\n",
       "3            498  (12-13)        9        9       4       6\n",
       "4            543  (13-24)        9       13       6       2\n",
       "...          ...      ...      ...      ...     ...     ...\n",
       "57422         47    (1-2)        7        7       4       6\n",
       "57423         93    (2-3)        7        7       6       8\n",
       "57424        138    (3-4)        7        7       8      10\n",
       "57425        182    (4-5)        7        7      10      12\n",
       "57426        225    (5-6)        7        7      12      14\n",
       "\n",
       "[57427 rows x 6 columns]"
      ]
     },
     "execution_count": 27,
     "metadata": {},
     "output_type": "execute_result"
    }
   ],
   "source": [
    "df"
   ]
  },
  {
   "cell_type": "code",
   "execution_count": 29,
   "metadata": {},
   "outputs": [],
   "source": [
    "l1 = list(df.layer1[mask])[0]"
   ]
  },
  {
   "cell_type": "code",
   "execution_count": 32,
   "metadata": {},
   "outputs": [],
   "source": [
    "l22 = list(df.layer2[mask])[0]"
   ]
  },
  {
   "cell_type": "code",
   "execution_count": 33,
   "metadata": {},
   "outputs": [
    {
     "data": {
      "text/plain": [
       "'7 4;7 8'"
      ]
     },
     "execution_count": 33,
     "metadata": {},
     "output_type": "execute_result"
    }
   ],
   "source": [
    "f\"{v1} {l1};{v2} {l22}\""
   ]
  },
  {
   "cell_type": "code",
   "execution_count": 35,
   "metadata": {},
   "outputs": [],
   "source": [
    "reformatted_x_axis=[]\n",
    "\n",
    "for global_index_pair in pairs:\n",
    "    mask = df.pair==global_index_pair\n",
    "    v1 = list(df.volume1[mask])[0]\n",
    "    v2 = list(df.volume2[mask])[0]\n",
    "    l1 = list(df.layer1[mask])[0]\n",
    "    l2 = list(df.layer2[mask])[0]\n",
    "    reformatted_x_axis.append(f\"{v1} {l1};{v2} {l22}\") "
   ]
  },
  {
   "cell_type": "code",
   "execution_count": 36,
   "metadata": {},
   "outputs": [
    {
     "data": {
      "text/plain": [
       "['7 4;7 8',\n",
       " '13 8;14 8',\n",
       " '8 4;13 8',\n",
       " '13 4;13 8',\n",
       " '13 8;17 8',\n",
       " '13 6;18 8',\n",
       " '7 10;7 8',\n",
       " '9 2;9 8',\n",
       " '13 6;17 8',\n",
       " '12 10;13 8',\n",
       " '12 12;13 8',\n",
       " '7 12;8 8',\n",
       " '8 4;12 8',\n",
       " '9 6;9 8',\n",
       " '8 6;12 8',\n",
       " '8 6;12 8',\n",
       " '9 10;9 8',\n",
       " '8 4;12 8',\n",
       " '14 4;17 8',\n",
       " '8 2;12 8',\n",
       " '7 14;8 8',\n",
       " '13 8;14 8',\n",
       " '13 6;16 8',\n",
       " '7 2;7 8',\n",
       " '8 4;12 8',\n",
       " '8 2;13 8',\n",
       " '9 12;14 8',\n",
       " '13 8;16 8',\n",
       " '7 14;13 8',\n",
       " '7 12;13 8',\n",
       " '13 6;18 8',\n",
       " '9 4;9 8',\n",
       " '12 8;13 8',\n",
       " '9 8;9 8',\n",
       " '14 8;14 8',\n",
       " '8 2;12 8',\n",
       " '12 12;14 8',\n",
       " '14 4;18 8',\n",
       " '14 8;17 8',\n",
       " '9 6;13 8',\n",
       " '13 2;16 8',\n",
       " '12 12;13 8',\n",
       " '14 4;14 8',\n",
       " '14 6;14 8',\n",
       " '12 4;12 8',\n",
       " '12 2;12 8',\n",
       " '9 8;14 8',\n",
       " '13 6;18 8',\n",
       " '7 14;12 8',\n",
       " '12 8;12 8']"
      ]
     },
     "execution_count": 36,
     "metadata": {},
     "output_type": "execute_result"
    }
   ],
   "source": [
    "reformatted_x_axis"
   ]
  },
  {
   "cell_type": "code",
   "execution_count": 37,
   "metadata": {},
   "outputs": [
    {
     "data": {
      "image/png": "[encoded data removed]",
      "text/plain": [
       "<Figure size 1440x720 with 1 Axes>"
      ]
     },
     "metadata": {
      "needs_background": "light"
     },
     "output_type": "display_data"
    }
   ],
   "source": [
    "fig = plt.figure(figsize = (20, 10))\n",
    "ax = fig.add_axes([0,0,1,1])\n",
    "plt.yscale(\"log\")\n",
    "ax.bar(reformatted_x_axis,count)\n",
    "plt.xlabel(\"pairs\")\n",
    "plt.xticks(rotation = 45) \n",
    "plt.ylabel(\"count\")\n",
    "plt.title(\"Number of Pairs\")\n",
    "plt.show()"
   ]
  },
  {
   "cell_type": "code",
   "execution_count": 57,
   "metadata": {},
   "outputs": [
    {
     "data": {
      "text/plain": [
       "12467"
      ]
     },
     "execution_count": 57,
     "metadata": {},
     "output_type": "execute_result"
    }
   ],
   "source": [
    "vv1 = list(df.volume1)\n",
    "vv1.count(8)\n",
    "\n",
    "(df.volume1 == 8) & (df.volume2 == 8)\n",
    "sum((df.volume1 == 8) & (df.volume2 == 8))"
   ]
  },
  {
   "cell_type": "code",
   "execution_count": 45,
   "metadata": {},
   "outputs": [
    {
     "data": {
      "text/plain": [
       "13303"
      ]
     },
     "execution_count": 45,
     "metadata": {},
     "output_type": "execute_result"
    }
   ],
   "source": [
    "vv2 = list(df.volume2)\n",
    "vv2.count(8)"
   ]
  },
  {
   "cell_type": "code",
   "execution_count": 48,
   "metadata": {},
   "outputs": [
    {
     "data": {
      "text/plain": [
       "15324"
      ]
     },
     "execution_count": 48,
     "metadata": {},
     "output_type": "execute_result"
    }
   ],
   "source": [
    "ll1 = list(df.layer1)\n",
    "ll1.count(2)"
   ]
  },
  {
   "cell_type": "code",
   "execution_count": 49,
   "metadata": {},
   "outputs": [
    {
     "data": {
      "text/plain": [
       "10052"
      ]
     },
     "execution_count": 49,
     "metadata": {},
     "output_type": "execute_result"
    }
   ],
   "source": [
    "ll2 = list(df.layer2)\n",
    "ll2.count(2)"
   ]
  },
  {
   "cell_type": "code",
   "execution_count": 68,
   "metadata": {},
   "outputs": [
    {
     "data": {
      "text/plain": [
       "18"
      ]
     },
     "execution_count": 68,
     "metadata": {},
     "output_type": "execute_result"
    }
   ],
   "source": [
    "max(vv1)"
   ]
  },
  {
   "cell_type": "code",
   "execution_count": 69,
   "metadata": {},
   "outputs": [
    {
     "data": {
      "text/plain": [
       "18"
      ]
     },
     "execution_count": 69,
     "metadata": {},
     "output_type": "execute_result"
    }
   ],
   "source": [
    "max(vv2)"
   ]
  },
  {
   "cell_type": "code",
   "execution_count": 70,
   "metadata": {},
   "outputs": [
    {
     "name": "stdout",
     "output_type": "stream",
     "text": [
      "[(7, 7, 6393), (7, 8, 836), (7, 12, 198), (7, 13, 32), (8, 8, 12467), (8, 9, 876), (8, 12, 1337), (8, 13, 3214), (8, 14, 5), (9, 9, 6711), (9, 12, 1), (9, 13, 209), (9, 14, 821), (12, 12, 3233), (12, 13, 792), (12, 14, 11), (12, 16, 39), (12, 17, 2), (13, 13, 9752), (13, 14, 855), (13, 16, 876), (13, 17, 1814), (14, 14, 3441), (14, 16, 3), (14, 17, 31), (16, 16, 464), (16, 17, 117), (17, 17, 1370)]\n"
     ]
    }
   ],
   "source": [
    "mycounts = []\n",
    "\n",
    "for i in range(18):\n",
    "    for j in range(18):\n",
    "        x = sum((df.volume1 == i) & (df.volume2 == j))\n",
    "        ttuple=(i,j,x)\n",
    "        if x!=0: \n",
    "            mycounts.append(ttuple) \n",
    "        \n",
    "print(mycounts)"
   ]
  },
  {
   "cell_type": "code",
   "execution_count": 105,
   "metadata": {},
   "outputs": [
    {
     "data": {
      "text/html": [
       "<div>\n",
       "<style scoped>\n",
       "    .dataframe tbody tr th:only-of-type {\n",
       "        vertical-align: middle;\n",
       "    }\n",
       "\n",
       "    .dataframe tbody tr th {\n",
       "        vertical-align: top;\n",
       "    }\n",
       "\n",
       "    .dataframe thead th {\n",
       "        text-align: right;\n",
       "    }\n",
       "</style>\n",
       "<table border=\"1\" class=\"dataframe\">\n",
       "  <thead>\n",
       "    <tr style=\"text-align: right;\">\n",
       "      <th></th>\n",
       "      <th>volume1</th>\n",
       "      <th>volume2</th>\n",
       "      <th>counts</th>\n",
       "      <th>Volumes</th>\n",
       "    </tr>\n",
       "  </thead>\n",
       "  <tbody>\n",
       "    <tr>\n",
       "      <th>0</th>\n",
       "      <td>7</td>\n",
       "      <td>7</td>\n",
       "      <td>6393</td>\n",
       "      <td>7-7</td>\n",
       "    </tr>\n",
       "    <tr>\n",
       "      <th>1</th>\n",
       "      <td>7</td>\n",
       "      <td>8</td>\n",
       "      <td>836</td>\n",
       "      <td>7-8</td>\n",
       "    </tr>\n",
       "    <tr>\n",
       "      <th>2</th>\n",
       "      <td>7</td>\n",
       "      <td>12</td>\n",
       "      <td>198</td>\n",
       "      <td>7-12</td>\n",
       "    </tr>\n",
       "    <tr>\n",
       "      <th>3</th>\n",
       "      <td>7</td>\n",
       "      <td>13</td>\n",
       "      <td>32</td>\n",
       "      <td>7-13</td>\n",
       "    </tr>\n",
       "    <tr>\n",
       "      <th>4</th>\n",
       "      <td>8</td>\n",
       "      <td>8</td>\n",
       "      <td>12467</td>\n",
       "      <td>8-8</td>\n",
       "    </tr>\n",
       "    <tr>\n",
       "      <th>5</th>\n",
       "      <td>8</td>\n",
       "      <td>9</td>\n",
       "      <td>876</td>\n",
       "      <td>8-9</td>\n",
       "    </tr>\n",
       "    <tr>\n",
       "      <th>6</th>\n",
       "      <td>8</td>\n",
       "      <td>12</td>\n",
       "      <td>1337</td>\n",
       "      <td>8-12</td>\n",
       "    </tr>\n",
       "    <tr>\n",
       "      <th>7</th>\n",
       "      <td>8</td>\n",
       "      <td>13</td>\n",
       "      <td>3214</td>\n",
       "      <td>8-13</td>\n",
       "    </tr>\n",
       "    <tr>\n",
       "      <th>8</th>\n",
       "      <td>8</td>\n",
       "      <td>14</td>\n",
       "      <td>5</td>\n",
       "      <td>8-14</td>\n",
       "    </tr>\n",
       "    <tr>\n",
       "      <th>9</th>\n",
       "      <td>9</td>\n",
       "      <td>9</td>\n",
       "      <td>6711</td>\n",
       "      <td>9-9</td>\n",
       "    </tr>\n",
       "    <tr>\n",
       "      <th>10</th>\n",
       "      <td>9</td>\n",
       "      <td>12</td>\n",
       "      <td>1</td>\n",
       "      <td>9-12</td>\n",
       "    </tr>\n",
       "    <tr>\n",
       "      <th>11</th>\n",
       "      <td>9</td>\n",
       "      <td>13</td>\n",
       "      <td>209</td>\n",
       "      <td>9-13</td>\n",
       "    </tr>\n",
       "    <tr>\n",
       "      <th>12</th>\n",
       "      <td>9</td>\n",
       "      <td>14</td>\n",
       "      <td>821</td>\n",
       "      <td>9-14</td>\n",
       "    </tr>\n",
       "    <tr>\n",
       "      <th>13</th>\n",
       "      <td>12</td>\n",
       "      <td>12</td>\n",
       "      <td>3233</td>\n",
       "      <td>12-12</td>\n",
       "    </tr>\n",
       "    <tr>\n",
       "      <th>14</th>\n",
       "      <td>12</td>\n",
       "      <td>13</td>\n",
       "      <td>792</td>\n",
       "      <td>12-13</td>\n",
       "    </tr>\n",
       "    <tr>\n",
       "      <th>15</th>\n",
       "      <td>12</td>\n",
       "      <td>14</td>\n",
       "      <td>11</td>\n",
       "      <td>12-14</td>\n",
       "    </tr>\n",
       "    <tr>\n",
       "      <th>16</th>\n",
       "      <td>12</td>\n",
       "      <td>16</td>\n",
       "      <td>39</td>\n",
       "      <td>12-16</td>\n",
       "    </tr>\n",
       "    <tr>\n",
       "      <th>17</th>\n",
       "      <td>12</td>\n",
       "      <td>17</td>\n",
       "      <td>2</td>\n",
       "      <td>12-17</td>\n",
       "    </tr>\n",
       "    <tr>\n",
       "      <th>18</th>\n",
       "      <td>13</td>\n",
       "      <td>13</td>\n",
       "      <td>9752</td>\n",
       "      <td>13-13</td>\n",
       "    </tr>\n",
       "    <tr>\n",
       "      <th>19</th>\n",
       "      <td>13</td>\n",
       "      <td>14</td>\n",
       "      <td>855</td>\n",
       "      <td>13-14</td>\n",
       "    </tr>\n",
       "    <tr>\n",
       "      <th>20</th>\n",
       "      <td>13</td>\n",
       "      <td>16</td>\n",
       "      <td>876</td>\n",
       "      <td>13-16</td>\n",
       "    </tr>\n",
       "    <tr>\n",
       "      <th>21</th>\n",
       "      <td>13</td>\n",
       "      <td>17</td>\n",
       "      <td>1814</td>\n",
       "      <td>13-17</td>\n",
       "    </tr>\n",
       "    <tr>\n",
       "      <th>22</th>\n",
       "      <td>14</td>\n",
       "      <td>14</td>\n",
       "      <td>3441</td>\n",
       "      <td>14-14</td>\n",
       "    </tr>\n",
       "    <tr>\n",
       "      <th>23</th>\n",
       "      <td>14</td>\n",
       "      <td>16</td>\n",
       "      <td>3</td>\n",
       "      <td>14-16</td>\n",
       "    </tr>\n",
       "    <tr>\n",
       "      <th>24</th>\n",
       "      <td>14</td>\n",
       "      <td>17</td>\n",
       "      <td>31</td>\n",
       "      <td>14-17</td>\n",
       "    </tr>\n",
       "    <tr>\n",
       "      <th>25</th>\n",
       "      <td>16</td>\n",
       "      <td>16</td>\n",
       "      <td>464</td>\n",
       "      <td>16-16</td>\n",
       "    </tr>\n",
       "    <tr>\n",
       "      <th>26</th>\n",
       "      <td>16</td>\n",
       "      <td>17</td>\n",
       "      <td>117</td>\n",
       "      <td>16-17</td>\n",
       "    </tr>\n",
       "    <tr>\n",
       "      <th>27</th>\n",
       "      <td>17</td>\n",
       "      <td>17</td>\n",
       "      <td>1370</td>\n",
       "      <td>17-17</td>\n",
       "    </tr>\n",
       "  </tbody>\n",
       "</table>\n",
       "</div>"
      ],
      "text/plain": [
       "    volume1  volume2  counts Volumes\n",
       "0         7        7    6393     7-7\n",
       "1         7        8     836     7-8\n",
       "2         7       12     198    7-12\n",
       "3         7       13      32    7-13\n",
       "4         8        8   12467     8-8\n",
       "5         8        9     876     8-9\n",
       "6         8       12    1337    8-12\n",
       "7         8       13    3214    8-13\n",
       "8         8       14       5    8-14\n",
       "9         9        9    6711     9-9\n",
       "10        9       12       1    9-12\n",
       "11        9       13     209    9-13\n",
       "12        9       14     821    9-14\n",
       "13       12       12    3233   12-12\n",
       "14       12       13     792   12-13\n",
       "15       12       14      11   12-14\n",
       "16       12       16      39   12-16\n",
       "17       12       17       2   12-17\n",
       "18       13       13    9752   13-13\n",
       "19       13       14     855   13-14\n",
       "20       13       16     876   13-16\n",
       "21       13       17    1814   13-17\n",
       "22       14       14    3441   14-14\n",
       "23       14       16       3   14-16\n",
       "24       14       17      31   14-17\n",
       "25       16       16     464   16-16\n",
       "26       16       17     117   16-17\n",
       "27       17       17    1370   17-17"
      ]
     },
     "execution_count": 105,
     "metadata": {},
     "output_type": "execute_result"
    }
   ],
   "source": [
    "df1 = pd.DataFrame(mycounts, columns=['volume1', 'volume2', 'counts'])\n",
    "volume1 = 'volume1'\n",
    "volume2 = 'volume2'\n",
    "df1['Volumes'] = df1['volume1'].map(str) + '-' + df1['volume2'].map(str)\n",
    "df1"
   ]
  },
  {
   "cell_type": "code",
   "execution_count": 108,
   "metadata": {},
   "outputs": [
    {
     "data": {
      "text/plain": [
       "Text(0, 0.5, 'counts')"
      ]
     },
     "execution_count": 108,
     "metadata": {},
     "output_type": "execute_result"
    },
    {
     "data": {
      "image/png": "[encoded data removed]",
      "text/plain": [
       "<Figure size 432x288 with 1 Axes>"
      ]
     },
     "metadata": {
      "needs_background": "light"
     },
     "output_type": "display_data"
    }
   ],
   "source": [
    "ax1 = df1.plot.bar(x='Volumes', y='counts', rot=60)\n",
    "plt.title(\"Volume Counts\")\n",
    "plt.xlabel(\"volumes\")\n",
    "plt.ylabel(\"counts\")"
   ]
  },
  {
   "cell_type": "code",
   "execution_count": null,
   "metadata": {},
   "outputs": [],
   "source": []
  },
  {
   "cell_type": "code",
   "execution_count": null,
   "metadata": {},
   "outputs": [],
   "source": []
  },
  {
   "cell_type": "code",
   "execution_count": null,
   "metadata": {},
   "outputs": [],
   "source": []
  }
 ],
 "metadata": {
  "kernelspec": {
   "display_name": "Python 3",
   "language": "python",
   "name": "python3"
  },
  "language_info": {
   "codemirror_mode": {
    "name": "ipython",
    "version": 3
   },
   "file_extension": ".py",
   "mimetype": "text/x-python",
   "name": "python",
   "nbconvert_exporter": "python",
   "pygments_lexer": "ipython3",
   "version": "3.8.5"
  }
 },
 "nbformat": 4,
 "nbformat_minor": 4
}
